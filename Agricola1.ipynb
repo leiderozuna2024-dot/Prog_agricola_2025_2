{
  "nbformat": 4,
  "nbformat_minor": 0,
  "metadata": {
    "colab": {
      "provenance": [],
      "authorship_tag": "ABX9TyNCNqRp2fnrmrjhiva/zICf",
      "include_colab_link": true
    },
    "kernelspec": {
      "name": "python3",
      "display_name": "Python 3"
    },
    "language_info": {
      "name": "python"
    }
  },
  "cells": [
    {
      "cell_type": "markdown",
      "metadata": {
        "id": "view-in-github",
        "colab_type": "text"
      },
      "source": [
        "<a href=\"https://colab.research.google.com/github/leiderozuna2024-dot/Prog_agricola_2025_2/blob/main/Agricola1.ipynb\" target=\"_parent\"><img src=\"https://colab.research.google.com/assets/colab-badge.svg\" alt=\"Open In Colab\"/></a>"
      ]
    },
    {
      "cell_type": "code",
      "execution_count": 1,
      "metadata": {
        "colab": {
          "base_uri": "https://localhost:8080/"
        },
        "id": "iA80C6-T9cTP",
        "outputId": "a909d52c-dcbf-4f55-d460-7727dcad74bc"
      },
      "outputs": [
        {
          "output_type": "stream",
          "name": "stdout",
          "text": [
            "La suma de 5 y 10 es: 15\n"
          ]
        }
      ],
      "source": [
        "def sumar_numeros(num1, num2):\n",
        "  \"\"\"\n",
        "  Esta función suma dos números.\n",
        "\n",
        "  Args:\n",
        "    num1: El primer número.\n",
        "    num2: El segundo número.\n",
        "\n",
        "  Returns:\n",
        "    La suma de num1 y num2.\n",
        "  \"\"\"\n",
        "  return num1 + num2\n",
        "\n",
        "# Ejemplo de uso:\n",
        "numero1 = 5\n",
        "numero2 = 10\n",
        "resultado = sumar_numeros(numero1, numero2)\n",
        "print(f\"La suma de {numero1} y {numero2} es: {resultado}\")"
      ]
    }
  ]
}