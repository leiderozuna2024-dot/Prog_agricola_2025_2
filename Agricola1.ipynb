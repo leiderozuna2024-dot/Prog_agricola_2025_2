{
  "nbformat": 4,
  "nbformat_minor": 0,
  "metadata": {
    "colab": {
      "provenance": [],
      "authorship_tag": "ABX9TyN3N1fY1hNhihKin/Rri4mQ",
      "include_colab_link": true
    },
    "kernelspec": {
      "name": "python3",
      "display_name": "Python 3"
    },
    "language_info": {
      "name": "python"
    }
  },
  "cells": [
    {
      "cell_type": "markdown",
      "metadata": {
        "id": "view-in-github",
        "colab_type": "text"
      },
      "source": [
        "<a href=\"https://colab.research.google.com/github/leiderozuna2024-dot/Prog_agricola_2025_2/blob/main/Agricola1.ipynb\" target=\"_parent\"><img src=\"https://colab.research.google.com/assets/colab-badge.svg\" alt=\"Open In Colab\"/></a>"
      ]
    },
    {
      "cell_type": "code",
      "execution_count": 1,
      "metadata": {
        "colab": {
          "base_uri": "https://localhost:8080/"
        },
        "id": "iA80C6-T9cTP",
        "outputId": "a909d52c-dcbf-4f55-d460-7727dcad74bc"
      },
      "outputs": [
        {
          "output_type": "stream",
          "name": "stdout",
          "text": [
            "La suma de 5 y 10 es: 15\n"
          ]
        }
      ],
      "source": [
        "def sumar_numeros(num1, num2):\n",
        "  \"\"\"\n",
        "  Esta función suma dos números.\n",
        "\n",
        "  Args:\n",
        "    num1: El primer número.\n",
        "    num2: El segundo número.\n",
        "\n",
        "  Returns:\n",
        "    La suma de num1 y num2.\n",
        "  \"\"\"\n",
        "  return num1 + num2\n",
        "\n",
        "# Ejemplo de uso:\n",
        "numero1 = 5\n",
        "numero2 = 10\n",
        "resultado = sumar_numeros(numero1, numero2)\n",
        "print(f\"La suma de {numero1} y {numero2} es: {resultado}\")"
      ]
    },
    {
      "cell_type": "code",
      "metadata": {
        "colab": {
          "base_uri": "https://localhost:8080/"
        },
        "id": "a581aba2",
        "outputId": "0e2fb4e4-838c-4d7a-f864-77a0234dd1aa"
      },
      "source": [
        "# Definimos dos números\n",
        "a = 20\n",
        "b = 5\n",
        "\n",
        "# Suma\n",
        "suma = a + b\n",
        "print(f\"Suma: {a} + {b} = {suma}\")\n",
        "\n",
        "# Resta\n",
        "resta = a - b\n",
        "print(f\"Resta: {a} - {b} = {resta}\")\n",
        "\n",
        "# Multiplicación\n",
        "multiplicacion = a * b\n",
        "print(f\"Multiplicación: {a} * {b} = {multiplicacion}\")\n",
        "\n",
        "# División\n",
        "division = a / b\n",
        "print(f\"División: {a} / {b} = {division}\")\n",
        "\n",
        "# División entera\n",
        "division_entera = a // b\n",
        "print(f\"División entera: {a} // {b} = {division_entera}\")\n",
        "\n",
        "# Módulo\n",
        "modulo = a % b\n",
        "print(f\"Módulo: {a} % {b} = {modulo}\")\n",
        "\n",
        "# Exponenciación\n",
        "exponenciacion = a ** b\n",
        "print(f\"Exponenciación: {a} ** {b} = {exponenciacion}\")"
      ],
      "execution_count": 2,
      "outputs": [
        {
          "output_type": "stream",
          "name": "stdout",
          "text": [
            "Suma: 20 + 5 = 25\n",
            "Resta: 20 - 5 = 15\n",
            "Multiplicación: 20 * 5 = 100\n",
            "División: 20 / 5 = 4.0\n",
            "División entera: 20 // 5 = 4\n",
            "Módulo: 20 % 5 = 0\n",
            "Exponenciación: 20 ** 5 = 3200000\n"
          ]
        }
      ]
    }
  ]
}